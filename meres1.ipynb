{
 "cells": [
  {
   "cell_type": "code",
   "execution_count": 1,
   "outputs": [],
   "source": [
    "import numpy as np\n",
    "import matplotlib.pyplot as plt\n",
    "import pandas as pd\n",
    "from scipy.optimize import curve_fit\n",
    "\n",
    "def fit_rect(x, a, b, c):\n",
    "    y = np.zeros(len(x))\n",
    "    for i in range(len(x)):\n",
    "        if ((x[i]-c)//b)%2==0:\n",
    "            y[i]=a\n",
    "        else:\n",
    "            y[i]=-a\n",
    "\n",
    "    return y"
   ],
   "metadata": {
    "collapsed": false,
    "ExecuteTime": {
     "end_time": "2023-09-02T12:56:13.999648500Z",
     "start_time": "2023-09-02T12:56:12.665734100Z"
    }
   }
  },
  {
   "cell_type": "markdown",
   "source": [],
   "metadata": {
    "collapsed": false
   }
  },
  {
   "cell_type": "code",
   "execution_count": 2,
   "metadata": {
    "collapsed": true,
    "ExecuteTime": {
     "end_time": "2023-09-02T12:56:14.017645700Z",
     "start_time": "2023-09-02T12:56:14.003642200Z"
    }
   },
   "outputs": [],
   "source": [
    "c2 = 10e-9\n",
    "c1 = 1e-6\n",
    "t = 1/2\n",
    "R1 = 690*1000\n",
    "R2 = 460*1000\n",
    "R3 = 110\n",
    "\n",
    "t1 = 0.693*(R1+R2)*c1\n",
    "t2 = 0.693*R2*c1\n",
    "D = t1/(t1+t2)\n",
    "f = 1/(t1+t2)"
   ]
  },
  {
   "cell_type": "code",
   "execution_count": 3,
   "outputs": [
    {
     "name": "stdout",
     "output_type": "stream",
     "text": [
      "9046.280237334551\n",
      "190.7601583296228\n"
     ]
    }
   ],
   "source": [
    "R2 = 99.6*1000\n",
    "R3 = 9.95*1000\n",
    "R4 = 989\n",
    "C2 = 6.82e-9\n",
    "\n",
    "Rp = (R2*R3)/(R2+R3)\n",
    "print(Rp)\n",
    "Uoszt = 12*R3/(R2+R3)\n",
    "tau = Rp*C2*np.log(24/Uoszt)\n",
    "print(tau*1e6)"
   ],
   "metadata": {
    "collapsed": false,
    "ExecuteTime": {
     "end_time": "2023-09-02T12:56:14.041621800Z",
     "start_time": "2023-09-02T12:56:14.017645700Z"
    }
   }
  },
  {
   "cell_type": "code",
   "execution_count": 4,
   "outputs": [
    {
     "name": "stdout",
     "output_type": "stream",
     "text": [
      "[11.112406499871033, -9.795754359363153]\n",
      "304.19999999999993\n",
      "188.00001999999998\n"
     ]
    }
   ],
   "source": [
    "data = pd.read_csv('data\\\\SDS00002.CSV', skiprows=2, usecols=[3, 4, 5], header=None).to_numpy()\n",
    "t = data[:,0]\n",
    "ch1 = data[:,1]\n",
    "ch2 = data[:,2]\n",
    "\n",
    "atlag = [ch1[ch1>10].mean(), ch1[ch1<-8].mean()]\n",
    "print(atlag)\n",
    "\n",
    "t1 = t[(ch1>1) & (t>50e-6) & (t<550e-6)]\n",
    "print((t1[-1]-t1[0])*1e6)\n",
    "\n",
    "t2 = t[(ch1<-1) & (t>-100e-6) & (t<300e-6)]\n",
    "print((t2[-1]-t2[0])*1e6)\n",
    "%matplotlib qt\n",
    "\n",
    "fig, ax = plt.subplots()\n",
    "ax.plot(t, ch1, 'b-', label=r'$U_{\\mathrm{ki}}$')\n",
    "ax.plot(t, ch2, 'r-', label=r'$U_{\\mathrm{be}}$')\n",
    "ax.plot(t, fit_rect(t, 8., 250e-6, 0), 'k--', label='Illesztés')\n",
    "ax.set_xlabel(r't (s)')\n",
    "ax.set_ylabel(r'U (V)')\n",
    "ax.set_xticks([-150e-5, -75e-5, 0., 75e-5, 150e-5])\n",
    "ax.set_yticks([-12, -6, 0, 6, 12])\n",
    "ax.legend()\n",
    "plt.savefig('2plot3.pdf', format='pdf', dpi=1000, bbox_inches='tight')"
   ],
   "metadata": {
    "collapsed": false,
    "ExecuteTime": {
     "end_time": "2023-09-02T12:56:14.950601300Z",
     "start_time": "2023-09-02T12:56:14.037622200Z"
    }
   }
  },
  {
   "cell_type": "code",
   "execution_count": 5,
   "outputs": [],
   "source": [
    "data = pd.read_csv('data\\\\SDS00003.CSV', skiprows=2, usecols=[3, 4, 5], header=None).to_numpy()\n",
    "t = data[:,0]\n",
    "ch1 = data[:,1]\n",
    "ch2 = data[:,2]\n",
    "\n",
    "\n",
    "fig, ax = plt.subplots()\n",
    "ax.plot(t, ch1, 'b-', label='CH1 data')\n",
    "ax.plot(t, ch2, 'r-', label='CH2 data')\n",
    "ax.plot(t, fit_rect(t, 8, 240e-6, 0))\n",
    "ax.set_xlabel(r't (s)')\n",
    "ax.set_ylabel(r'U (V)')\n",
    "ax.set_xticks([-75e-5, 0., 75e-5])\n",
    "ax.set_yticks([-12, -6, 0, 6, 12])\n",
    "ax.legend()\n",
    "plt.savefig('2plot3.pdf', format='pdf', dpi=1000, bbox_inches='tight')"
   ],
   "metadata": {
    "collapsed": false,
    "ExecuteTime": {
     "end_time": "2023-09-02T12:56:15.231193900Z",
     "start_time": "2023-09-02T12:56:14.951594600Z"
    }
   }
  },
  {
   "cell_type": "code",
   "execution_count": 6,
   "outputs": [
    {
     "name": "stdout",
     "output_type": "stream",
     "text": [
      "[11.02609119726896, -9.849109707064905]\n",
      "185.59998000000002\n",
      "164.0\n"
     ]
    }
   ],
   "source": [
    "data = pd.read_csv('data\\\\SDS00004.CSV', skiprows=2, usecols=[3, 4, 5], header=None).to_numpy()\n",
    "t = data[:,0]\n",
    "ch1 = data[:,1]\n",
    "ch2 = data[:,2]\n",
    "\n",
    "atlag = [ch1[ch1>10].mean(), ch1[ch1<-9].mean()]\n",
    "print(atlag)\n",
    "\n",
    "t1 = t[(ch1>1) & (t>50e-6) & (t<550e-6)]\n",
    "print((t1[-1]-t1[0])*1e6)\n",
    "\n",
    "t2 = t[(ch1<-1) & (t>-100e-6) & (t<300e-6)]\n",
    "print((t2[-1]-t2[0])*1e6)\n",
    "\n",
    "fig, ax = plt.subplots()\n",
    "ax.plot(t, ch1, 'b-', label=r'$U_{\\mathrm{ki}}$')\n",
    "ax.plot(t, ch2, 'r-', label=r'$U_{\\mathrm{be}}$')\n",
    "ax.plot(t, fit_rect(t, 8., 180e-6, 0), 'k--', label='Illesztés')\n",
    "ax.set_xlabel(r't (s)')\n",
    "ax.set_ylabel(r'U (V)')\n",
    "ax.set_xticks([-75e-5, 0., 75e-5])\n",
    "ax.set_yticks([-12, -6, 0, 6, 12])\n",
    "ax.legend()\n",
    "plt.savefig('2plot4.pdf', format='pdf', dpi=1000, bbox_inches='tight')"
   ],
   "metadata": {
    "collapsed": false,
    "ExecuteTime": {
     "end_time": "2023-09-02T12:56:16.041521200Z",
     "start_time": "2023-09-02T12:56:15.705558800Z"
    }
   }
  }
 ],
 "metadata": {
  "kernelspec": {
   "display_name": "Python 3",
   "language": "python",
   "name": "python3"
  },
  "language_info": {
   "codemirror_mode": {
    "name": "ipython",
    "version": 2
   },
   "file_extension": ".py",
   "mimetype": "text/x-python",
   "name": "python",
   "nbconvert_exporter": "python",
   "pygments_lexer": "ipython2",
   "version": "2.7.6"
  }
 },
 "nbformat": 4,
 "nbformat_minor": 0
}
