{
 "cells": [
  {
   "cell_type": "markdown",
   "source": [
    "# Tranzisztoros erősítő mérés"
   ],
   "metadata": {
    "collapsed": false
   }
  },
  {
   "cell_type": "code",
   "execution_count": 2,
   "metadata": {
    "collapsed": true,
    "ExecuteTime": {
     "end_time": "2023-04-30T09:08:51.439263900Z",
     "start_time": "2023-04-30T09:08:51.252614700Z"
    }
   },
   "outputs": [],
   "source": [
    "import numpy as np\n",
    "\n",
    "re = 99.1\n",
    "rc = 2.193*1000 #zold\n",
    "rt = 2.193*1000 #kek\n",
    "r1 = 46.8*1000\n",
    "r2 = 4,68*1000\n",
    "\n",
    "u0 = 9.963\n",
    "uc = 4.92\n",
    "ue = 229.6/1000\n",
    "ub = 0.878\n",
    "\n",
    "ube = ub-ue\n",
    "uce = uc-ue\n",
    "ubc = ub-uc\n",
    "\n",
    "ce = 10*1e-6\n",
    "c2 = 100*1e-9\n"
   ]
  },
  {
   "cell_type": "code",
   "execution_count": 3,
   "outputs": [],
   "source": [
    "f = [50.1, 100.2, 200.2, 500, 1000, 2001, 5010, 10000, 20010, 50000, 100100]\n",
    "Ube = np.array([16.8/1000, 16.8/1000, 19.2/1000, 24.4/1000, 76.8/1000, 81.6/1000, 54.4/1000, 54.4/1000, 54.4/1000, 46.4/1000, 46./1000])\n",
    "Uki = np.array([4.5/1000, 12.8/1000, 61/1000, 320/1000, 2.36, 3.76, 3.1, 3.28, 3.24, 2.74, 2.66])\n",
    "A_U = []\n",
    "Au = 20*np.log10(Uki/Ube)\n",
    "phi = np.array([2, 20, 24, 61.2, 92.4, 114., 144., 157., 165., 175., 184.])*2*np.pi/360\n",
    "\n",
    "u10000 = 2.46\n",
    "uref = u10000/np.sqrt(2)\n",
    "fmax = 448*1000\n",
    "fmin = 1597"
   ],
   "metadata": {
    "collapsed": false,
    "ExecuteTime": {
     "end_time": "2023-04-30T09:08:52.302300300Z",
     "start_time": "2023-04-30T09:08:52.273037900Z"
    }
   }
  },
  {
   "cell_type": "code",
   "execution_count": 8,
   "outputs": [
    {
     "data": {
      "text/plain": "269.3250421814667"
     },
     "execution_count": 8,
     "metadata": {},
     "output_type": "execute_result"
    }
   ],
   "source": [
    "f = 1000\n",
    "rs = 993\n",
    "rshi = 10\n",
    "uhi = np.ones(3)*1/1000\n",
    "ug = np.array([69.2/1000, 72.8/1000, 82.4/1000])\n",
    "ube = np.array([52/1000, 61.2/1000, 68.4/1000])\n",
    "\n",
    "rbe = rs*ube/(ug-ube)\n",
    "rbehi = np.sqrt((rshi/rs)**2+(uhi/ube)**2+(2*uhi**2)/(ug-ube)**2)*rbe\n",
    "np.mean(rbehi)/np.sqrt(3)"
   ],
   "metadata": {
    "collapsed": false,
    "ExecuteTime": {
     "end_time": "2023-04-30T10:30:43.734580500Z",
     "start_time": "2023-04-30T10:30:43.718990Z"
    }
   }
  },
  {
   "cell_type": "markdown",
   "source": [
    "$U_{be}=\\frac{R_{be}}{R_{be}+R_s}\\cdot U_g$"
   ],
   "metadata": {
    "collapsed": false
   }
  },
  {
   "cell_type": "code",
   "execution_count": 8,
   "outputs": [],
   "source": [
    "f = 1000\n",
    "\n",
    "ug = 64/1000\n",
    "ukiu = 4.08\n",
    "# terhelő ellenállás\n",
    "\n",
    "rt = 2.194*1000\n",
    "ug = 63.6/1000\n",
    "ukit = 1.96\n",
    "\n",
    "rki = rt*(ukiu-ukit)/ukit"
   ],
   "metadata": {
    "collapsed": false,
    "ExecuteTime": {
     "start_time": "2023-04-20T11:33:11.852685Z",
     "end_time": "2023-04-20T11:33:11.872692Z"
    }
   }
  }
 ],
 "metadata": {
  "kernelspec": {
   "display_name": "Python 3",
   "language": "python",
   "name": "python3"
  },
  "language_info": {
   "codemirror_mode": {
    "name": "ipython",
    "version": 2
   },
   "file_extension": ".py",
   "mimetype": "text/x-python",
   "name": "python",
   "nbconvert_exporter": "python",
   "pygments_lexer": "ipython2",
   "version": "2.7.6"
  }
 },
 "nbformat": 4,
 "nbformat_minor": 0
}
